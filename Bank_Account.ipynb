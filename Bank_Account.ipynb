{
 "cells": [
  {
   "cell_type": "code",
   "execution_count": 2,
   "metadata": {},
   "outputs": [
    {
     "name": "stdout",
     "output_type": "stream",
     "text": [
      "Account Title: Ashish, Balance: 5000\n",
      "Account Title: Ashish, Balance: 5000, Interest Rate: 5%\n"
     ]
    }
   ],
   "source": [
    "class Account:\n",
    "    def __init__(self, title, balance=0):\n",
    "        self.title = title\n",
    "        self.balance = balance\n",
    "\n",
    "class SavingsAccount(Account):\n",
    "    def __init__(self, title, balance=0, interest_rate=0):\n",
    "        # Call the initializer of the parent class (Account)\n",
    "        super().__init__(title, balance)\n",
    "        self.interest_rate = interest_rate\n",
    "\n",
    "account1 = Account(\"Ashish\", 5000)\n",
    "print(f\"Account Title: {account1.title}, Balance: {account1.balance}\")\n",
    "\n",
    "savings_account1 = SavingsAccount(\"Ashish\", 5000, 5)\n",
    "print(f\"Account Title: {savings_account1.title}, Balance: {savings_account1.balance}, Interest Rate: {savings_account1.interest_rate}%\")"
   ]
  }
 ],
 "metadata": {
  "kernelspec": {
   "display_name": "Python 3",
   "language": "python",
   "name": "python3"
  },
  "language_info": {
   "codemirror_mode": {
    "name": "ipython",
    "version": 3
   },
   "file_extension": ".py",
   "mimetype": "text/x-python",
   "name": "python",
   "nbconvert_exporter": "python",
   "pygments_lexer": "ipython3",
   "version": "3.12.0"
  }
 },
 "nbformat": 4,
 "nbformat_minor": 2
}
