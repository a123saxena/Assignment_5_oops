{
 "cells": [
  {
   "cell_type": "code",
   "execution_count": 1,
   "metadata": {},
   "outputs": [
    {
     "name": "stdout",
     "output_type": "stream",
     "text": [
      "Initial Balance: 2000\n",
      "Balance after deposit: 2500\n",
      "Balance after withdrawal: 2000\n",
      "Interest Amount: 100.0\n"
     ]
    }
   ],
   "source": [
    "class Account:\n",
    "    def __init__(self, title, balance=0):\n",
    "        self.title = title\n",
    "        self.balance = balance\n",
    "\n",
    "    def withdrawal(self, amount):\n",
    "        self.balance -= amount\n",
    "\n",
    "    def deposit(self, amount):\n",
    "        self.balance += amount\n",
    "\n",
    "    def get_balance(self):\n",
    "        return self.balance\n",
    "\n",
    "class SavingsAccount(Account):\n",
    "    def __init__(self, title, balance=0, interest_rate=0):\n",
    "        super().__init__(title, balance)\n",
    "        self.interest_rate = interest_rate\n",
    "\n",
    "    def interest_amount(self):\n",
    "        return (self.interest_rate * self.balance) / 100\n",
    "\n",
    "account1 = Account(\"Ashish\", 2000)\n",
    "print(f\"Initial Balance: {account1.get_balance()}\")\n",
    "\n",
    "account1.deposit(500)\n",
    "print(f\"Balance after deposit: {account1.get_balance()}\")\n",
    "\n",
    "account1.withdrawal(500)\n",
    "print(f\"Balance after withdrawal: {account1.get_balance()}\")\n",
    "\n",
    "savings_account1 = SavingsAccount(\"Ashish\", 2000, 5)\n",
    "interest_amount = savings_account1.interest_amount()\n",
    "print(f\"Interest Amount: {interest_amount}\")\n",
    "\n"
   ]
  }
 ],
 "metadata": {
  "kernelspec": {
   "display_name": "Python 3",
   "language": "python",
   "name": "python3"
  },
  "language_info": {
   "codemirror_mode": {
    "name": "ipython",
    "version": 3
   },
   "file_extension": ".py",
   "mimetype": "text/x-python",
   "name": "python",
   "nbconvert_exporter": "python",
   "pygments_lexer": "ipython3",
   "version": "3.12.0"
  }
 },
 "nbformat": 4,
 "nbformat_minor": 2
}
