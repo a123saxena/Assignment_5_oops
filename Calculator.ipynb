{
 "cells": [
  {
   "cell_type": "code",
   "execution_count": null,
   "metadata": {},
   "outputs": [],
   "source": [
    "class Calculator:\n",
    "\n",
    "    def __init__(self):\n",
    "        self.num1 = float(input(\"Enter the first number: \"))\n",
    "        self.num2 = float(input(\"Enter the second number: \"))\n",
    "\n",
    "    def add(self):\n",
    "        return self.num1 + self.num2\n",
    "\n",
    "    def subtract(self):\n",
    "        return self.num2 - self.num1\n",
    "\n",
    "    def multiply(self):\n",
    "        return self.num1 * self.num2\n",
    "\n",
    "    def divide(self):\n",
    "        # Check if num1 is not zero to avoid division by zero\n",
    "        if self.num1 != 0:\n",
    "            return self.num2 / self.num1\n",
    "        else:\n",
    "            return \"Cannot divide by zero.\"\n",
    "\n",
    "obj = Calculator()\n",
    "\n",
    "print(\"Addition:\", obj.add())\n",
    "print(\"Subtraction:\", obj.subtract())\n",
    "print(\"Multiplication:\", obj.multiply())\n",
    "print(\"Division:\", obj.divide())\n"
   ]
  }
 ],
 "metadata": {
  "kernelspec": {
   "display_name": "Python 3",
   "language": "python",
   "name": "python3"
  },
  "language_info": {
   "codemirror_mode": {
    "name": "ipython",
    "version": 3
   },
   "file_extension": ".py",
   "mimetype": "text/x-python",
   "name": "python",
   "nbconvert_exporter": "python",
   "pygments_lexer": "ipython3",
   "version": "3.12.0"
  }
 },
 "nbformat": 4,
 "nbformat_minor": 2
}
