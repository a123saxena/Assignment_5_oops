{
 "cells": [
  {
   "cell_type": "code",
   "execution_count": 2,
   "metadata": {},
   "outputs": [
    {
     "name": "stdout",
     "output_type": "stream",
     "text": [
      "Initial Student Name: \n",
      "Initial Student Roll Number: \n",
      "Updated Student Name: \n",
      "Updated Student Roll Number: \n"
     ]
    }
   ],
   "source": [
    "class Student:\n",
    "    def __init__(self):\n",
    "        self._name = \"\"\n",
    "        self._rollNumber = \"\"\n",
    "\n",
    "    def get_name(self):\n",
    "        return self._name\n",
    "\n",
    "    def get_roll_number(self):\n",
    "        return self._rollNumber\n",
    "    \n",
    "    def set_name(self, name):\n",
    "        self._name = name\n",
    "\n",
    "    def set_roll_number(self, roll_number):\n",
    "        self._rollNumber = roll_number\n",
    "\n",
    "student = Student()\n",
    "student_name = input(\"Enter student name: \")\n",
    "student_roll_number = input(\"Enter student roll number: \")\n",
    "\n",
    "student.set_name(student_name)\n",
    "student.set_roll_number(student_roll_number)\n",
    "print(\"Initial Student Name:\", student.get_name())\n",
    "print(\"Initial Student Roll Number:\", student.get_roll_number())\n",
    "\n",
    "new_name = input(\"Enter the new name: \")\n",
    "new_roll_number = input(\"Enter the new roll number: \")\n",
    "\n",
    "student.set_name(new_name)\n",
    "student.set_roll_number(new_roll_number)\n",
    "print(\"Updated Student Name:\", student.get_name())\n",
    "print(\"Updated Student Roll Number:\", student.get_roll_number())\n"
   ]
  }
 ],
 "metadata": {
  "kernelspec": {
   "display_name": "Python 3",
   "language": "python",
   "name": "python3"
  },
  "language_info": {
   "codemirror_mode": {
    "name": "ipython",
    "version": 3
   },
   "file_extension": ".py",
   "mimetype": "text/x-python",
   "name": "python",
   "nbconvert_exporter": "python",
   "pygments_lexer": "ipython3",
   "version": "3.12.0"
  }
 },
 "nbformat": 4,
 "nbformat_minor": 2
}
